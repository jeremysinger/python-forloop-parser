{
 "metadata": {
  "name": "",
  "signature": "sha256:80b933e53dd6e89413c2b48a1d00e2680b135b434e2b77e5c0a463de91faf4cb"
 },
 "nbformat": 3,
 "nbformat_minor": 0,
 "worksheets": [
  {
   "cells": [
    {
     "cell_type": "code",
     "collapsed": false,
     "input": [
      "def gcd(m,n):\n",
      "    while m%n != 0:\n",
      "       oldm = m\n",
      "       oldn = n\n",
      "\n",
      "       m = oldn\n",
      "       n = oldm%oldn\n",
      "    return n\n",
      "\n",
      "class Fraction:\n",
      "    def __init__(self,top,bottom):\n",
      "        if top//1 != top or bottom//1 != bottom:\n",
      "            print (\"Erro. Tha values must be intergers.\")\n",
      "            del self\n",
      "            return            \n",
      "        elif bottom == 0:\n",
      "            print (\"Erro. The denominator must be non-zero.\")\n",
      "            del self\n",
      "            return\n",
      "        self.num = top\n",
      "        self.den = bottom\n",
      "\n",
      "    def __str__(self):\n",
      "        return str(self.num)+\"/\"+str(self.den)\n",
      "\n",
      "    def show(self):\n",
      "        print(self.num,\"/\",self.den)\n",
      "\n",
      "    def __add__(self,otherfraction):\n",
      "        newnum = self.num*otherfraction.den + \\\n",
      "                  self.den*otherfraction.num\n",
      "        newden = self.den * otherfraction.den\n",
      "        common = gcd(newnum,newden)\n",
      "        return Fraction(newnum//common,newden//common)\n",
      "                \n",
      "    def __sub__(self,b):\n",
      "        c = Fraction(-1 * b.getNum(),b.getDen())\n",
      "        return self + c\n",
      "                \n",
      "    def __mul__(self,b):\n",
      "        return Fraction(self.getNum()*b.getNum(),self.getDen()*b.getDen())\n",
      "    \n",
      "    def __div__(self,b):\n",
      "        c = Fraction(b.getDen(),b.getNum())\n",
      "        return (self * c)\n",
      "\n",
      "    def __eq__(self, other):\n",
      "        firstnum = self.num * other.den\n",
      "        secondnum = other.num * self.den\n",
      "        return firstnum == secondnum\n",
      "\n",
      "    def __gt__(self,b):\n",
      "        return self.getNum() * b.getDen() > b.getNum() * self.getDen()\n",
      "    \n",
      "    def __ge__(self,b):\n",
      "        return self.getNum() * b.getDen() >= b.getNum() * self.getDen()\n",
      "    \n",
      "    def __lt__(self,b):\n",
      "        return self.getNum() * b.getDen() < b.getNum() * self.getDen()\n",
      "    \n",
      "    def __le__(self,b):\n",
      "        return self.getNum() * b.getDen() <= b.getNum() * self.getDen()\n",
      "                \n",
      "    def getNum(self):\n",
      "        return self.num \n",
      "    \n",
      "    def getDen(self):\n",
      "        return self.den\n",
      "\n",
      "a = Fraction(5,0)\n",
      "b = Fraction(5,1)\n",
      "c = a + b\n",
      "print(c)"
     ],
     "language": "python",
     "metadata": {},
     "outputs": [
      {
       "output_type": "stream",
       "stream": "stdout",
       "text": [
        "Erro. The denominator must be non-zero.\n"
       ]
      },
      {
       "ename": "AttributeError",
       "evalue": "Fraction instance has no attribute 'num'",
       "output_type": "pyerr",
       "traceback": [
        "\u001b[1;31m---------------------------------------------------------------------------\u001b[0m\n\u001b[1;31mAttributeError\u001b[0m                            Traceback (most recent call last)",
        "\u001b[1;32m<ipython-input-3-2e33fb3d8154>\u001b[0m in \u001b[0;36m<module>\u001b[1;34m()\u001b[0m\n\u001b[0;32m     72\u001b[0m \u001b[0ma\u001b[0m \u001b[1;33m=\u001b[0m \u001b[0mFraction\u001b[0m\u001b[1;33m(\u001b[0m\u001b[1;36m5\u001b[0m\u001b[1;33m,\u001b[0m\u001b[1;36m0\u001b[0m\u001b[1;33m)\u001b[0m\u001b[1;33m\u001b[0m\u001b[0m\n\u001b[0;32m     73\u001b[0m \u001b[0mb\u001b[0m \u001b[1;33m=\u001b[0m \u001b[0mFraction\u001b[0m\u001b[1;33m(\u001b[0m\u001b[1;36m5\u001b[0m\u001b[1;33m,\u001b[0m\u001b[1;36m1\u001b[0m\u001b[1;33m)\u001b[0m\u001b[1;33m\u001b[0m\u001b[0m\n\u001b[1;32m---> 74\u001b[1;33m \u001b[0mc\u001b[0m \u001b[1;33m=\u001b[0m \u001b[0ma\u001b[0m \u001b[1;33m+\u001b[0m \u001b[0mb\u001b[0m\u001b[1;33m\u001b[0m\u001b[0m\n\u001b[0m\u001b[0;32m     75\u001b[0m \u001b[1;32mprint\u001b[0m\u001b[1;33m(\u001b[0m\u001b[0mc\u001b[0m\u001b[1;33m)\u001b[0m\u001b[1;33m\u001b[0m\u001b[0m\n",
        "\u001b[1;32m<ipython-input-3-2e33fb3d8154>\u001b[0m in \u001b[0;36m__add__\u001b[1;34m(self, otherfraction)\u001b[0m\n\u001b[0;32m     31\u001b[0m \u001b[1;33m\u001b[0m\u001b[0m\n\u001b[0;32m     32\u001b[0m     \u001b[1;32mdef\u001b[0m \u001b[0m__add__\u001b[0m\u001b[1;33m(\u001b[0m\u001b[0mself\u001b[0m\u001b[1;33m,\u001b[0m\u001b[0motherfraction\u001b[0m\u001b[1;33m)\u001b[0m\u001b[1;33m:\u001b[0m\u001b[1;33m\u001b[0m\u001b[0m\n\u001b[1;32m---> 33\u001b[1;33m         \u001b[0mnewnum\u001b[0m \u001b[1;33m=\u001b[0m \u001b[0mself\u001b[0m\u001b[1;33m.\u001b[0m\u001b[0mnum\u001b[0m\u001b[1;33m*\u001b[0m\u001b[0motherfraction\u001b[0m\u001b[1;33m.\u001b[0m\u001b[0mden\u001b[0m \u001b[1;33m+\u001b[0m                   \u001b[0mself\u001b[0m\u001b[1;33m.\u001b[0m\u001b[0mden\u001b[0m\u001b[1;33m*\u001b[0m\u001b[0motherfraction\u001b[0m\u001b[1;33m.\u001b[0m\u001b[0mnum\u001b[0m\u001b[1;33m\u001b[0m\u001b[0m\n\u001b[0m\u001b[0;32m     34\u001b[0m         \u001b[0mnewden\u001b[0m \u001b[1;33m=\u001b[0m \u001b[0mself\u001b[0m\u001b[1;33m.\u001b[0m\u001b[0mden\u001b[0m \u001b[1;33m*\u001b[0m \u001b[0motherfraction\u001b[0m\u001b[1;33m.\u001b[0m\u001b[0mden\u001b[0m\u001b[1;33m\u001b[0m\u001b[0m\n\u001b[0;32m     35\u001b[0m         \u001b[0mcommon\u001b[0m \u001b[1;33m=\u001b[0m \u001b[0mgcd\u001b[0m\u001b[1;33m(\u001b[0m\u001b[0mnewnum\u001b[0m\u001b[1;33m,\u001b[0m\u001b[0mnewden\u001b[0m\u001b[1;33m)\u001b[0m\u001b[1;33m\u001b[0m\u001b[0m\n",
        "\u001b[1;31mAttributeError\u001b[0m: Fraction instance has no attribute 'num'"
       ]
      }
     ],
     "prompt_number": 3
    }
   ],
   "metadata": {}
  }
 ]
}